{
 "cells": [
  {
   "cell_type": "markdown",
   "metadata": {},
   "source": [
    "# 🌶 Recipe Recommender System"
   ]
  },
  {
   "cell_type": "markdown",
   "metadata": {},
   "source": [
    ">For anyone - interested in vegetarian, vegan or pescetarian meals"
   ]
  },
  {
   "cell_type": "markdown",
   "metadata": {},
   "source": [
    "## Installations and importations"
   ]
  },
  {
   "cell_type": "code",
   "execution_count": 1,
   "metadata": {},
   "outputs": [
    {
     "name": "stdout",
     "output_type": "stream",
     "text": [
      "Defaulting to user installation because normal site-packages is not writeable\n",
      "Requirement already satisfied: pip in /Users/heddabjorgen/Library/Python/3.9/lib/python/site-packages (24.3.1)\n",
      "Note: you may need to restart the kernel to use updated packages.\n",
      "Defaulting to user installation because normal site-packages is not writeable\n",
      "Requirement already satisfied: pandas in /Users/heddabjorgen/Library/Python/3.9/lib/python/site-packages (2.2.3)\n",
      "Requirement already satisfied: numpy>=1.22.4 in /Users/heddabjorgen/Library/Python/3.9/lib/python/site-packages (from pandas) (2.0.2)\n",
      "Requirement already satisfied: python-dateutil>=2.8.2 in /Users/heddabjorgen/Library/Python/3.9/lib/python/site-packages (from pandas) (2.9.0.post0)\n",
      "Requirement already satisfied: pytz>=2020.1 in /Users/heddabjorgen/Library/Python/3.9/lib/python/site-packages (from pandas) (2024.2)\n",
      "Requirement already satisfied: tzdata>=2022.7 in /Users/heddabjorgen/Library/Python/3.9/lib/python/site-packages (from pandas) (2024.2)\n",
      "Requirement already satisfied: six>=1.5 in /Library/Frameworks/Python.framework/Versions/3.9/lib/python3.9/site-packages (from python-dateutil>=2.8.2->pandas) (1.16.0)\n",
      "Note: you may need to restart the kernel to use updated packages.\n"
     ]
    }
   ],
   "source": [
    "%pip install --upgrade pip\n",
    "%pip install pandas"
   ]
  },
  {
   "cell_type": "code",
   "execution_count": 2,
   "metadata": {},
   "outputs": [],
   "source": [
    "import pandas as pd\n",
    "import re"
   ]
  },
  {
   "cell_type": "markdown",
   "metadata": {},
   "source": [
    "## User class"
   ]
  },
  {
   "cell_type": "code",
   "execution_count": 3,
   "metadata": {},
   "outputs": [],
   "source": [
    "class User:\n",
    "    #Abstract class/blueprint class for all users.\n",
    "    def __init__(self, name):\n",
    "        self.name = name\n",
    "    #Abstract method to save diet.\n",
    "    def save_diet(self, diet):\n",
    "        raise NotImplementedError(\"This method should be implemented by subclasses.\")\n",
    "    #Abstract method to view diet.\n",
    "    def view_diet(self):\n",
    "        raise NotImplementedError(\"This method should be implemented by subclasses.\")\n"
   ]
  },
  {
   "cell_type": "markdown",
   "metadata": {},
   "source": [
    "## RegularUser class"
   ]
  },
  {
   "cell_type": "code",
   "execution_count": 4,
   "metadata": {},
   "outputs": [],
   "source": [
    "class RegularUser(User):\n",
    "    #Regular user with saved dietary preferences.\n",
    "    def __init__(self, name):\n",
    "        super().__init__(name)\n",
    "        self.diet = None\n",
    "    #Method to save dietary preference and give confirmation message.\n",
    "    def save_diet(self, diet):\n",
    "        self.diet = diet\n",
    "        print(f\"{self.name}, your dietary preference '{self.diet}' has been saved!\")\n",
    "    #Method to update dietary preference.\n",
    "    def update_diet(self):\n",
    "        new_diet = input(\"Enter your dietary preference (vegan, vegetarian, pescetarian): \").strip().lower()\n",
    "        self.save_diet(new_diet)\n",
    "    #Method to view dietary preference.\n",
    "    def view_diet(self):\n",
    "        return f\"{self.name}: {self.diet if self.diet else 'No dietary preference saved'}'\""
   ]
  },
  {
   "cell_type": "markdown",
   "metadata": {},
   "source": [
    "## AdminUser class"
   ]
  },
  {
   "cell_type": "code",
   "execution_count": 5,
   "metadata": {},
   "outputs": [],
   "source": [
    "\n",
    "class AdminUser(User):\n",
    "    #Admin User with password and access to all user data.\n",
    "    def __init__(self, name, password):\n",
    "        super().__init__(name)\n",
    "        self.password = password\n",
    "        self.users = []\n",
    "\n",
    "    def add_user(self, user):\n",
    "        self.users.append(user)\n",
    "\n",
    "    def view_user_data(self):\n",
    "        if not self.users:\n",
    "            print(\"No user data available.\")\n",
    "        else:\n",
    "            #Structure to view all user data.\n",
    "            print(\"\\n--- Overview of User Data in admin database---\")\n",
    "            for user in self.users:\n",
    "                print(user.view_diet())\n",
    "            print(\"------\")\n",
    "            \n",
    "    def save_diet(self, diet):\n",
    "        print(\"Admin users do not save dietary preferences.\")"
   ]
  },
  {
   "cell_type": "markdown",
   "metadata": {},
   "source": [
    "## Recipe class"
   ]
  },
  {
   "cell_type": "code",
   "execution_count": 6,
   "metadata": {},
   "outputs": [],
   "source": [
    "class Recipe:\n",
    "    #Class to represent an individual recipe with title, ingredients and instructions.\n",
    "    def __init__(self, title, ingredients, instructions):\n",
    "        self.title = title\n",
    "        self.ingredients = ingredients\n",
    "        self.instructions = instructions\n",
    "\n",
    "    def __repr__(self):\n",
    "        return f\"Recipe(title={self.title}, ingredients={self.ingredients[:30]}...)\""
   ]
  },
  {
   "cell_type": "markdown",
   "metadata": {},
   "source": [
    "## RecipeCategorizer class"
   ]
  },
  {
   "cell_type": "code",
   "execution_count": 7,
   "metadata": {},
   "outputs": [],
   "source": [
    "\n",
    "class RecipeCategorizer:\n",
    "    #Categorizes recipes based on dietary preferences.\n",
    "    def __init__(self, recipes, exclusions_file):\n",
    "        self.recipes = recipes\n",
    "        self.exclusions = self.generate_exclusions(exclusions_file)\n",
    "        \n",
    "    #This method reads the exclusions file and generates a dictionary of exclusions.\n",
    "    def generate_exclusions(self, exclusions_file):\n",
    "        try:\n",
    "            exclusions_data = pd.read_csv(exclusions_file)\n",
    "            exclusions = {\n",
    "                \"vegan\": exclusions_data[exclusions_data[\"diet\"] == \"vegan\"][\"ingredient_lowercase\"].tolist(),\n",
    "                \"vegetarian\": exclusions_data[exclusions_data[\"diet\"] == \"vegetarian\"][\"ingredient_lowercase\"].tolist(),\n",
    "                \"pescetarian\": exclusions_data[exclusions_data[\"diet\"] == \"pescetarian\"][\"ingredient_lowercase\"].tolist()\n",
    "            }\n",
    "            return exclusions\n",
    "        except Exception as e:\n",
    "            print(f\"Error loading exclusions: {e}\")\n",
    "            return {\"vegan\": [], \"vegetarian\": [], \"pescetarian\": []}\n",
    "    #This method cleans and tokenizes the ingredients.\n",
    "    def clean_and_tokenize(self, ingredients):\n",
    "        return re.findall(r'\\b\\w+\\b', ingredients.lower())\n",
    "    \n",
    "    #This method checks if the recipe is valid based on the ingredients and exclusion list.\n",
    "    def is_valid_recipe(self, ingredients, exclude_list):\n",
    "        tokens = self.clean_and_tokenize(ingredients)\n",
    "        return not any(token in exclude_list for token in tokens)\n",
    "\n",
    "    #This method categorizes the recies based on the dietary preference.\n",
    "    \n",
    "    def categorize(self, diet_type):\n",
    "        exclude_list = self.exclusions.get(diet_type.lower())\n",
    "        if not exclude_list:\n",
    "            raise ValueError(f\"Invalid dietary preference: {diet_type}\")\n",
    "\n",
    "        filtered_recipes = self.recipes[\n",
    "            self.recipes['Ingredients'].apply(lambda x: self.is_valid_recipe(x, exclude_list))\n",
    "        ]\n",
    "        return [Recipe(row['Title'], row['Ingredients'], row['Instructions']) for _, row in filtered_recipes.iterrows()]\n"
   ]
  },
  {
   "cell_type": "markdown",
   "metadata": {},
   "source": [
    "## RecipeRecommender class"
   ]
  },
  {
   "cell_type": "code",
   "execution_count": 8,
   "metadata": {},
   "outputs": [],
   "source": [
    "class RecipeRecommender:\n",
    "    #Provides recipe recommendations based on sorting logic.\n",
    "    def __init__(self, categorized_recipes):\n",
    "        self.recipes = categorized_recipes\n",
    "\n",
    "    #This method uses merge sort to sort the recipes based on the key function.\n",
    "    def merge_sort(self, recipes, key_func, reverse=False):\n",
    "        if len(recipes) <= 1:\n",
    "            return recipes\n",
    "\n",
    "        mid = len(recipes) // 2\n",
    "        left = self.merge_sort(recipes[:mid], key_func, reverse)\n",
    "        right = self.merge_sort(recipes[mid:], key_func, reverse)\n",
    "        return self._merge(left, right, key_func, reverse)\n",
    "\n",
    "    def _merge(self, left, right, key_func, reverse):\n",
    "        sorted_list = []\n",
    "        while left and right:\n",
    "            left_key = key_func(left[0])\n",
    "            right_key = key_func(right[0])\n",
    "            if (left_key > right_key if reverse else left_key <= right_key):\n",
    "                sorted_list.append(left.pop(0))\n",
    "            else:\n",
    "                sorted_list.append(right.pop(0))\n",
    "        sorted_list.extend(left)\n",
    "        sorted_list.extend(right)\n",
    "        return sorted_list\n",
    "\n",
    "    #This method recommends recipes based on the number of steps in the instructions.\n",
    "    def recommend_by_steps(self):\n",
    "        return self.merge_sort(self.recipes, key_func=lambda r: str(r.instructions).count('.') + str(r.instructions).count('\\n'))\n",
    "\n",
    "    #This method recommends recipes based on the number of ingredients.\n",
    "    def recommend_by_ingredients(self, user_ingredients):\n",
    "        def ingredient_match_score(recipe):\n",
    "            return sum(ing in recipe.ingredients.lower() for ing in user_ingredients.lower().split(', '))\n",
    "\n",
    "        return self.merge_sort(self.recipes, key_func=ingredient_match_score, reverse=True)\n",
    "\n"
   ]
  },
  {
   "cell_type": "markdown",
   "metadata": {},
   "source": [
    "## DataLoader class"
   ]
  },
  {
   "cell_type": "code",
   "execution_count": 9,
   "metadata": {},
   "outputs": [],
   "source": [
    "#DataLoader class to load data from a file using pandas.\n",
    "class DataLoader:\n",
    "    @staticmethod\n",
    "    def load_data(file_path):\n",
    "        try:\n",
    "            return pd.read_csv(file_path)\n",
    "        except Exception as e:\n",
    "            print(f\"Error loading file: {e}\")\n",
    "            return None"
   ]
  },
  {
   "cell_type": "markdown",
   "metadata": {},
   "source": [
    "## Main function to run program"
   ]
  },
  {
   "cell_type": "code",
   "execution_count": 10,
   "metadata": {},
   "outputs": [],
   "source": [
    "#RecipeApp class to run the recipe recommendation app.\n",
    "class RecipeApp:\n",
    "    def __init__(self, recipe_file, exclusions_file):\n",
    "        self.recipe_file = recipe_file\n",
    "        self.exclusions_file = exclusions_file\n",
    "        self.data = None\n",
    "        self.current_user = None\n",
    "        #Create an admin user with password.\n",
    "        self.admin = AdminUser(\"Admin\", \"admin123\")\n",
    "\n",
    "    #Method to load data from the recipe file.\n",
    "    def load_data(self):\n",
    "        self.data = DataLoader.load_data(self.recipe_file)\n",
    "        if self.data is None:\n",
    "            print(\"Failed to load dataset.\")\n",
    "            return False\n",
    "        return True\n",
    "\n",
    "    #Method to run the Admin Menu.\n",
    "    def run_admin_menu(self):\n",
    "        entered_password = input(\"Enter admin password: \").strip()\n",
    "        if entered_password != self.admin.password:\n",
    "            print(\"Incorrect password. Access denied.\")\n",
    "            return\n",
    "\n",
    "        #Specify how the Admin Menu works and looks like.\n",
    "        while True:\n",
    "            print(\"\\n🛠Admin Menu:\")\n",
    "            print(\"1. View user data\")\n",
    "            print(\"2. Add new user\")\n",
    "            print(\"3. Switch to Regular User menu\")\n",
    "            print(\"4. Exit\")\n",
    "            choice = input(\"Enter your choice: \").strip()\n",
    "\n",
    "            #Sets conditions for each choice.\n",
    "            if choice == \"1\":\n",
    "                self.admin.view_user_data()\n",
    "            elif choice == \"2\":\n",
    "                user = RegularUser(input(\"Enter new user's name: \").strip())\n",
    "                user.update_diet()\n",
    "                self.admin.add_user(user)\n",
    "            elif choice == \"3\":\n",
    "                self.run_regular_menu()\n",
    "            elif choice == \"4\":\n",
    "                print(\"Exiting Admin Menu.\")\n",
    "                break\n",
    "            else:\n",
    "                print(\"Invalid choice.\")\n",
    "\n",
    "    #Method to run the Regular User Menu.\n",
    "    def run_regular_menu(self):\n",
    "        print(\"Welcome to the Recipe Recommendation App!🍒\")\n",
    "        name = input(\"Enter your name: \").strip()\n",
    "        self.current_user = RegularUser(name)\n",
    "        self.admin.add_user(self.current_user)  # Automatically add user to admin's list\n",
    "        while True:\n",
    "            print(\"\\n👤 Regular User Menu:\")\n",
    "            print(\"1. Save dietary preference and get recipe recommendations\")\n",
    "            print(\"2. Switch to Admin Menu🛠\")\n",
    "            print(\"3. Exit\")\n",
    "            choice = input(\"Enter your choice: \").strip()\n",
    "\n",
    "            if choice == \"1\":\n",
    "                self.current_user.update_diet()\n",
    "                self.get_recommendations()\n",
    "            elif choice == \"2\":\n",
    "                self.run_admin_menu()\n",
    "            elif choice == \"3\":\n",
    "                print(\"Exiting Regular User Menu.\")\n",
    "                break\n",
    "            else:\n",
    "                print(\"Invalid choice.\")\n",
    "\n",
    "    #Method to get recipe recommendations based on the users diet and preferences for sorting.\n",
    "    def get_recommendations(self):\n",
    "        categorizer = RecipeCategorizer(self.data, self.exclusions_file)\n",
    "        try:\n",
    "            recipes = categorizer.categorize(self.current_user.diet)\n",
    "            if not recipes:\n",
    "                print(\"No recipes found.\")\n",
    "                return\n",
    "            recommender = RecipeRecommender(recipes)\n",
    "            print(\"1. By simplicity in instructions\")\n",
    "            print(\"2. By ingredients you have in you pantry\")\n",
    "            print(\"3. I don't care, just show me recipes based on my diet\")\n",
    "            choice = input(\"Enter choice: \").strip()\n",
    "            #Sets conditions for each choice, and calls upon methods based on the choice.\n",
    "            if choice == \"1\":\n",
    "                recipes = recommender.recommend_by_steps()\n",
    "            elif choice == \"2\":\n",
    "                recipes = recommender.recommend_by_ingredients(input(\"Ingredients: \"))\n",
    "            print(\"\\nRecipes:\")\n",
    "            for i, r in enumerate(recipes[:10]):\n",
    "                print(f\"{i+1}. {r.title}\")\n",
    "            self.view_recipe_details(recipes)\n",
    "        except Exception as e:\n",
    "            print(e)\n",
    "\n",
    "    #Method to view recipe details if a user wants to see more details.\n",
    "    def view_recipe_details(self, recipes):\n",
    "        while True:\n",
    "            choice = input(\"Enter recipe number to view details, 'more' to see more recipes, or 'exit' to go back to the main menu \").strip().lower()\n",
    "            if choice == 'exit':\n",
    "                break\n",
    "            elif choice == 'more':\n",
    "                for i, r in enumerate(recipes[10:20], 11):\n",
    "                    print(f\"{i}. {r.title}\")\n",
    "            elif choice.isdigit():\n",
    "                choice = int(choice) - 1\n",
    "                if 0 <= choice < len(recipes):\n",
    "                    recipe = recipes[choice]\n",
    "                    print(f\"\\nTitle: {recipe.title}\\nIngredients: {recipe.ingredients}\\nInstructions: {recipe.instructions}\\n\")\n",
    "                else:\n",
    "                    print(\"Invalid recipe number.\")\n",
    "            else:\n",
    "                print(\"Invalid input.\")"
   ]
  },
  {
   "cell_type": "markdown",
   "metadata": {},
   "source": [
    "## Run the program "
   ]
  },
  {
   "cell_type": "code",
   "execution_count": 11,
   "metadata": {},
   "outputs": [
    {
     "name": "stdout",
     "output_type": "stream",
     "text": [
      "Ellen, your dietary preference 'vegan' has been saved!\n",
      "Tobias, your dietary preference 'vegetarian' has been saved!\n",
      "Beata, your dietary preference 'pescetarian' has been saved!\n",
      "Welcome to the Recipe Recommendation App!🍒\n",
      "\n",
      "👤 Regular User Menu:\n",
      "1. Save dietary preference and get recipe recommendations\n",
      "2. Switch to Admin Menu🛠\n",
      "3. Exit\n",
      "Exiting Regular User Menu.\n"
     ]
    }
   ],
   "source": [
    "#Run the application.\n",
    "if __name__ == \"__main__\":\n",
    "    app = RecipeApp(\"13k-recipes.csv\", \"dietary_exclusions.csv\")\n",
    "    app.load_data()\n",
    "    \n",
    "    \n",
    "    #Prepopulate with example users and diets\n",
    "    example_users = [\n",
    "        RegularUser(\"Ellen\"),\n",
    "        RegularUser(\"Tobias\"),\n",
    "        RegularUser(\"Beata\")\n",
    "    ]\n",
    "    \n",
    "    example_users[0].save_diet(\"vegan\")\n",
    "    example_users[1].save_diet(\"vegetarian\")\n",
    "    example_users[2].save_diet(\"pescetarian\")\n",
    "    \n",
    "    #Add example users to the admin's list\n",
    "    for user in example_users:\n",
    "        app.admin.add_user(user)\n",
    "    \n",
    "    app.run_regular_menu()"
   ]
  }
 ],
 "metadata": {
  "kernelspec": {
   "display_name": "Python 3",
   "language": "python",
   "name": "python3"
  },
  "language_info": {
   "codemirror_mode": {
    "name": "ipython",
    "version": 3
   },
   "file_extension": ".py",
   "mimetype": "text/x-python",
   "name": "python",
   "nbconvert_exporter": "python",
   "pygments_lexer": "ipython3",
   "version": "3.9.6"
  }
 },
 "nbformat": 4,
 "nbformat_minor": 2
}
